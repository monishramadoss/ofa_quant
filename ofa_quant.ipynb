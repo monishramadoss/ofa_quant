{
  "nbformat": 4,
  "nbformat_minor": 5,
  "metadata": {
    "colab": {
      "name": "ofa_quant.ipynb",
      "provenance": []
    },
    "language_info": {
      "name": "python"
    },
    "kernelspec": {
      "name": "python3",
      "display_name": "Python 3"
    }
  },
  "cells": [
    {
      "cell_type": "code",
      "metadata": {
        "colab": {
          "base_uri": "https://localhost:8080/"
        },
        "id": "BesMFL3fVdax",
        "outputId": "2aa7c169-a889-458e-f8e6-0b2b4445a79e"
      },
      "source": [
        "!pip install ofa\n",
        "!pip install torch==1.4.0 torchvision==0.5.0"
      ],
      "id": "BesMFL3fVdax",
      "execution_count": 1,
      "outputs": [
        {
          "output_type": "stream",
          "name": "stdout",
          "text": [
            "Collecting ofa\n",
            "  Downloading ofa-0.1.0.post202012082159-py3-none-any.whl (106 kB)\n",
            "\u001b[?25l\r\u001b[K     |███                             | 10 kB 20.7 MB/s eta 0:00:01\r\u001b[K     |██████▏                         | 20 kB 25.0 MB/s eta 0:00:01\r\u001b[K     |█████████▎                      | 30 kB 25.1 MB/s eta 0:00:01\r\u001b[K     |████████████▎                   | 40 kB 18.8 MB/s eta 0:00:01\r\u001b[K     |███████████████▍                | 51 kB 8.4 MB/s eta 0:00:01\r\u001b[K     |██████████████████▌             | 61 kB 8.6 MB/s eta 0:00:01\r\u001b[K     |█████████████████████▋          | 71 kB 7.9 MB/s eta 0:00:01\r\u001b[K     |████████████████████████▋       | 81 kB 8.9 MB/s eta 0:00:01\r\u001b[K     |███████████████████████████▊    | 92 kB 7.9 MB/s eta 0:00:01\r\u001b[K     |██████████████████████████████▉ | 102 kB 7.8 MB/s eta 0:00:01\r\u001b[K     |████████████████████████████████| 106 kB 7.8 MB/s \n",
            "\u001b[?25hRequirement already satisfied: torch in /usr/local/lib/python3.7/dist-packages (from ofa) (1.10.0+cu111)\n",
            "Requirement already satisfied: typing-extensions in /usr/local/lib/python3.7/dist-packages (from torch->ofa) (3.10.0.2)\n",
            "Installing collected packages: ofa\n",
            "Successfully installed ofa-0.1.0.post202012082159\n",
            "Collecting torch==1.4.0\n",
            "  Downloading torch-1.4.0-cp37-cp37m-manylinux1_x86_64.whl (753.4 MB)\n",
            "\u001b[K     |████████████████████████████████| 753.4 MB 6.0 kB/s \n",
            "\u001b[?25hCollecting torchvision==0.5.0\n",
            "  Downloading torchvision-0.5.0-cp37-cp37m-manylinux1_x86_64.whl (4.0 MB)\n",
            "\u001b[K     |████████████████████████████████| 4.0 MB 52.2 MB/s \n",
            "\u001b[?25hRequirement already satisfied: six in /usr/local/lib/python3.7/dist-packages (from torchvision==0.5.0) (1.15.0)\n",
            "Requirement already satisfied: pillow>=4.1.1 in /usr/local/lib/python3.7/dist-packages (from torchvision==0.5.0) (7.1.2)\n",
            "Requirement already satisfied: numpy in /usr/local/lib/python3.7/dist-packages (from torchvision==0.5.0) (1.19.5)\n",
            "Installing collected packages: torch, torchvision\n",
            "  Attempting uninstall: torch\n",
            "    Found existing installation: torch 1.10.0+cu111\n",
            "    Uninstalling torch-1.10.0+cu111:\n",
            "      Successfully uninstalled torch-1.10.0+cu111\n",
            "  Attempting uninstall: torchvision\n",
            "    Found existing installation: torchvision 0.11.1+cu111\n",
            "    Uninstalling torchvision-0.11.1+cu111:\n",
            "      Successfully uninstalled torchvision-0.11.1+cu111\n",
            "\u001b[31mERROR: pip's dependency resolver does not currently take into account all the packages that are installed. This behaviour is the source of the following dependency conflicts.\n",
            "torchtext 0.11.0 requires torch==1.10.0, but you have torch 1.4.0 which is incompatible.\u001b[0m\n",
            "Successfully installed torch-1.4.0 torchvision-0.5.0\n"
          ]
        }
      ]
    },
    {
      "cell_type": "code",
      "metadata": {
        "colab": {
          "base_uri": "https://localhost:8080/"
        },
        "id": "98SBhCpxVfeu",
        "outputId": "ed3d886c-9956-4fa8-e0c5-8adb421fd9b8"
      },
      "source": [
        "import copy\n",
        "\n",
        "import torch\n",
        "\n",
        "from ofa.model_zoo import ofa_net\n",
        "\n",
        "raw_resnet = ofa_net('ofa_resnet50', pretrained=True)\n",
        "raw_resnet.set_max_net()\n",
        "max_subnet = raw_resnet.get_active_subnet()\n",
        "raw_resnet.set_active_subnet(d=0, w=0)\n",
        "min_subnet = raw_resnet.get_active_subnet()"
      ],
      "id": "98SBhCpxVfeu",
      "execution_count": 4,
      "outputs": [
        {
          "output_type": "stream",
          "name": "stderr",
          "text": [
            "Downloading: \"https://hanlab.mit.edu/files/OnceForAll/ofa_nets/ofa_resnet50_d=0+1+2_e=0.2+0.25+0.35_w=0.65+0.8+1.0\" to .torch/ofa_nets/ofa_resnet50_d=0+1+2_e=0.2+0.25+0.35_w=0.65+0.8+1.0\n"
          ]
        }
      ]
    },
    {
      "cell_type": "code",
      "metadata": {
        "id": "7ypfdDaNVs0x"
      },
      "source": [
        "max_subnet.eval()\n",
        "max_subnet.qconfig = torch.quantization.default_qconfig\n",
        "max_subnet_1 = torch.quantization.prepare(max_subnet)"
      ],
      "id": "7ypfdDaNVs0x",
      "execution_count": 5,
      "outputs": []
    },
    {
      "cell_type": "code",
      "metadata": {
        "id": "mGw3VCBgash7"
      },
      "source": [
        "min_subnet.eval()\n",
        "min_subnet.qconfig = torch.quantization.default_qconfig\n",
        "min_subnet_1 = torch.quantization.prepare(min_subnet)"
      ],
      "id": "mGw3VCBgash7",
      "execution_count": 6,
      "outputs": []
    },
    {
      "cell_type": "code",
      "metadata": {
        "id": "LjVCLHzLawE7"
      },
      "source": [
        ""
      ],
      "id": "LjVCLHzLawE7",
      "execution_count": 6,
      "outputs": []
    },
    {
      "cell_type": "code",
      "metadata": {
        "id": "xOM-tB4zcYnf",
        "outputId": "9f611afc-ec89-410b-d430-f1382ba5107c",
        "colab": {
          "base_uri": "https://localhost:8080/"
        }
      },
      "source": [
        "max_q1 = torch.quantization.convert(max_subnet_1, inplace=True)\n",
        "min_q1 = torch.quantization.convert(min_subnet_1, inplace=True)"
      ],
      "id": "xOM-tB4zcYnf",
      "execution_count": 7,
      "outputs": [
        {
          "output_type": "stream",
          "name": "stderr",
          "text": [
            "/usr/local/lib/python3.7/dist-packages/torch/quantization/observer.py:172: UserWarning: Must run observer before calling calculate_qparams.                           Returning default scale and zero point.\n",
            "  Returning default scale and zero point.\")\n"
          ]
        }
      ]
    },
    {
      "cell_type": "code",
      "metadata": {
        "id": "UlY4-HxNePS6",
        "outputId": "8cc9aff0-de5e-45f8-8cab-c3ce6a9981f0",
        "colab": {
          "base_uri": "https://localhost:8080/"
        }
      },
      "source": [
        "max_mods = dict(max_q1.named_children())\n",
        "print(max_mods['input_stem'])\n",
        "print(len(max_mods['blocks']))\n",
        "min_mods = dict(min_q1.named_children())\n",
        "print(min_mods['input_stem'])\n",
        "print(min_mods['blocks'][0])\n",
        "print(len(min_mods['blocks']))\n",
        "\n",
        "\n",
        "# for n in max_q1.named_buffers():\n",
        "#     print(n)"
      ],
      "id": "UlY4-HxNePS6",
      "execution_count": 25,
      "outputs": [
        {
          "output_type": "stream",
          "name": "stdout",
          "text": [
            "ModuleList(\n",
            "  (0): ConvLayer(\n",
            "    (conv): QuantizedConv2d(3, 32, kernel_size=(3, 3), stride=(2, 2), scale=1.0, zero_point=0, padding=(1, 1), bias=False)\n",
            "    (bn): BatchNorm2d(32, eps=1e-05, momentum=0.1, affine=True, track_running_stats=True)\n",
            "    (act): QuantizedReLU(inplace=True)\n",
            "  )\n",
            "  (1): ResidualBlock(\n",
            "    (conv): ConvLayer(\n",
            "      (conv): QuantizedConv2d(32, 32, kernel_size=(3, 3), stride=(1, 1), scale=1.0, zero_point=0, padding=(1, 1), bias=False)\n",
            "      (bn): BatchNorm2d(32, eps=1e-05, momentum=0.1, affine=True, track_running_stats=True)\n",
            "      (act): QuantizedReLU(inplace=True)\n",
            "    )\n",
            "    (shortcut): IdentityLayer()\n",
            "  )\n",
            "  (2): ConvLayer(\n",
            "    (conv): QuantizedConv2d(32, 64, kernel_size=(3, 3), stride=(1, 1), scale=1.0, zero_point=0, padding=(1, 1), bias=False)\n",
            "    (bn): BatchNorm2d(64, eps=1e-05, momentum=0.1, affine=True, track_running_stats=True)\n",
            "    (act): QuantizedReLU(inplace=True)\n",
            "  )\n",
            ")\n",
            "18\n",
            "ModuleList(\n",
            "  (0): ConvLayer(\n",
            "    (conv): QuantizedConv2d(3, 24, kernel_size=(3, 3), stride=(2, 2), scale=1.0, zero_point=0, padding=(1, 1), bias=False)\n",
            "    (bn): BatchNorm2d(24, eps=1e-05, momentum=0.1, affine=True, track_running_stats=True)\n",
            "    (act): QuantizedReLU(inplace=True)\n",
            "  )\n",
            "  (1): ConvLayer(\n",
            "    (conv): QuantizedConv2d(24, 40, kernel_size=(3, 3), stride=(1, 1), scale=1.0, zero_point=0, padding=(1, 1), bias=False)\n",
            "    (bn): BatchNorm2d(40, eps=1e-05, momentum=0.1, affine=True, track_running_stats=True)\n",
            "    (act): QuantizedReLU(inplace=True)\n",
            "  )\n",
            ")\n",
            "ResNetBottleneckBlock(\n",
            "  (conv1): Sequential(\n",
            "    (conv): QuantizedConv2d(40, 56, kernel_size=(1, 1), stride=(1, 1), scale=1.0, zero_point=0, bias=False)\n",
            "    (bn): BatchNorm2d(56, eps=1e-05, momentum=0.1, affine=True, track_running_stats=True)\n",
            "    (act): QuantizedReLU(inplace=True)\n",
            "  )\n",
            "  (conv2): Sequential(\n",
            "    (conv): QuantizedConv2d(56, 56, kernel_size=(3, 3), stride=(1, 1), scale=1.0, zero_point=0, padding=(1, 1), bias=False)\n",
            "    (bn): BatchNorm2d(56, eps=1e-05, momentum=0.1, affine=True, track_running_stats=True)\n",
            "    (act): QuantizedReLU(inplace=True)\n",
            "  )\n",
            "  (conv3): Sequential(\n",
            "    (conv): QuantizedConv2d(56, 168, kernel_size=(1, 1), stride=(1, 1), scale=1.0, zero_point=0, bias=False)\n",
            "    (bn): BatchNorm2d(168, eps=1e-05, momentum=0.1, affine=True, track_running_stats=True)\n",
            "  )\n",
            "  (downsample): Sequential(\n",
            "    (avg_pool): AvgPool2d(kernel_size=1, stride=1, padding=0)\n",
            "    (conv): QuantizedConv2d(40, 168, kernel_size=(1, 1), stride=(1, 1), scale=1.0, zero_point=0, bias=False)\n",
            "    (bn): BatchNorm2d(168, eps=1e-05, momentum=0.1, affine=True, track_running_stats=True)\n",
            "  )\n",
            "  (final_act): QuantizedReLU(inplace=True)\n",
            ")\n",
            "10\n"
          ]
        }
      ]
    },
    {
      "cell_type": "code",
      "metadata": {
        "id": "JicLe9ftPPKO"
      },
      "source": [
        ""
      ],
      "id": "JicLe9ftPPKO",
      "execution_count": null,
      "outputs": []
    }
  ]
}